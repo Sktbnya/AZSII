{
  "cells": [
    {
      "cell_type": "code",
      "source": [
        "!pip install adversarial-robustness-toolbox"
      ],
      "metadata": {
        "colab": {
          "base_uri": "https://localhost:8080/"
        },
        "id": "4HqufJBy850c",
        "outputId": "e2b2ebea-26bb-474e-deb4-9bffe72ce1ad"
      },
      "execution_count": 23,
      "outputs": [
        {
          "output_type": "stream",
          "name": "stdout",
          "text": [
            "Requirement already satisfied: adversarial-robustness-toolbox in /usr/local/lib/python3.10/dist-packages (1.17.0)\n",
            "Requirement already satisfied: numpy>=1.18.0 in /usr/local/lib/python3.10/dist-packages (from adversarial-robustness-toolbox) (1.23.5)\n",
            "Requirement already satisfied: scipy>=1.4.1 in /usr/local/lib/python3.10/dist-packages (from adversarial-robustness-toolbox) (1.11.4)\n",
            "Requirement already satisfied: scikit-learn<1.2.0,>=0.22.2 in /usr/local/lib/python3.10/dist-packages (from adversarial-robustness-toolbox) (1.1.3)\n",
            "Requirement already satisfied: six in /usr/local/lib/python3.10/dist-packages (from adversarial-robustness-toolbox) (1.16.0)\n",
            "Requirement already satisfied: setuptools in /usr/local/lib/python3.10/dist-packages (from adversarial-robustness-toolbox) (67.7.2)\n",
            "Requirement already satisfied: tqdm in /usr/local/lib/python3.10/dist-packages (from adversarial-robustness-toolbox) (4.66.1)\n",
            "Requirement already satisfied: joblib>=1.0.0 in /usr/local/lib/python3.10/dist-packages (from scikit-learn<1.2.0,>=0.22.2->adversarial-robustness-toolbox) (1.3.2)\n",
            "Requirement already satisfied: threadpoolctl>=2.0.0 in /usr/local/lib/python3.10/dist-packages (from scikit-learn<1.2.0,>=0.22.2->adversarial-robustness-toolbox) (3.2.0)\n"
          ]
        }
      ]
    },
    {
      "cell_type": "markdown",
      "metadata": {
        "id": "lqXlk6Q11QYA"
      },
      "source": [
        "1) Выполнить импорт необходимых библиотек:\n",
        "\n",
        "---\n",
        "\n"
      ]
    },
    {
      "cell_type": "code",
      "execution_count": 24,
      "metadata": {
        "id": "f7pP5SXy1QnH"
      },
      "outputs": [],
      "source": [
        "import numpy as np\n",
        "import tensorflow as tf\n",
        "from art.attacks.poisoning.backdoor_attack_dgm.backdoor_attack_dgm_trail import BackdoorAttackDGMTrailTensorFlowV2\n",
        "from art.estimators.gan.tensorflow import TensorFlowV2GAN\n",
        "from art.estimators.generation.tensorflow import TensorFlowV2Generator\n",
        "from art.estimators.classification.tensorflow import TensorFlowV2Classifier\n",
        "\n",
        "np.random.seed(100)\n",
        "tf.random.set_seed(100)"
      ]
    },
    {
      "cell_type": "markdown",
      "metadata": {
        "id": "EVRPmZJ61QtM"
      },
      "source": [
        "2) Создать класс для модели-генератора изображений"
      ]
    },
    {
      "cell_type": "code",
      "execution_count": 25,
      "metadata": {
        "id": "FWepRuba1Qyf"
      },
      "outputs": [],
      "source": [
        "def make_generator_model(capacity: int, z_dim: int) -> tf.keras.Sequential():\n",
        "  model = tf.keras.Sequential()\n",
        "\n",
        "  model.add(tf.keras.layers.Dense(\\\n",
        "                                  capacity * 7 * 7 * 4,\\\n",
        "                                  use_bias=False,\\\n",
        "                                  input_shape=(z_dim,)))\n",
        "\n",
        "  model.add(tf.keras.layers.BatchNormalization())\n",
        "  model.add(tf.keras.layers.LeakyReLU())\n",
        "\n",
        "  model.add(tf.keras.layers.Reshape((7, 7, capacity * 4)))\n",
        "  assert model.output_shape == (None, 7, 7, capacity * 4)\n",
        "\n",
        "  model.add(tf.keras.layers.Conv2DTranspose(\\\n",
        "                                            capacity * 2,\\\n",
        "                                            (5, 5),\\\n",
        "                                            strides=(1, 1),\\\n",
        "                                            padding=\"same\",\\\n",
        "                                            use_bias=False))\n",
        "\n",
        "  assert model.output_shape == (None, 7, 7, capacity * 2)\n",
        "  model.add(tf.keras.layers.BatchNormalization())\n",
        "  model.add(tf.keras.layers.LeakyReLU())\n",
        "\n",
        "  model.add(tf.keras.layers.Conv2DTranspose(\\\n",
        "                                            capacity,\\\n",
        "                                            (5, 5),\\\n",
        "                                            strides=(2, 2),\\\n",
        "                                            padding=\"same\",\\\n",
        "                                            use_bias=False))\n",
        "\n",
        "  assert model.output_shape == (None, 14, 14, capacity)\n",
        "  model.add(tf.keras.layers.BatchNormalization())\n",
        "  model.add(tf.keras.layers.LeakyReLU())\n",
        "\n",
        "  model.add(tf.keras.layers.Conv2DTranspose(\\\n",
        "                                            1,\\\n",
        "                                            (5, 5),\\\n",
        "                                            strides=(2, 2),\\\n",
        "                                            padding=\"same\",\\\n",
        "                                            use_bias=False))\n",
        "\n",
        "  model.add(tf.keras.layers.Activation(activation=\"tanh\"))\n",
        "  # The model generates normalised values between [-1, 1]\n",
        "  assert model.output_shape == (None, 28, 28, 1)\n",
        "\n",
        "  return model"
      ]
    },
    {
      "cell_type": "markdown",
      "metadata": {
        "id": "9nzZj44M1Q3R"
      },
      "source": [
        "3) Создать класс для модели-дискриминатора изображений"
      ]
    },
    {
      "cell_type": "code",
      "execution_count": 26,
      "metadata": {
        "id": "ZFT8OnC11Q7p"
      },
      "outputs": [],
      "source": [
        "def make_discriminator_model(capacity: int) -> tf.keras.Sequential():\n",
        "  model = tf.keras.Sequential()\n",
        "\n",
        "  model.add(tf.keras.layers.Conv2D(\\\n",
        "                                   capacity,\\\n",
        "                                   (5, 5),\\\n",
        "                                   strides=(2, 2),\\\n",
        "                                   padding=\"same\",\\\n",
        "                                   input_shape=[28, 28, 1]))\n",
        "\n",
        "  model.add(tf.keras.layers.LeakyReLU())\n",
        "  model.add(tf.keras.layers.Dropout(0.3))\n",
        "\n",
        "  model.add(tf.keras.layers.Conv2D(\\\n",
        "                                   capacity * 2,\\\n",
        "                                   (5, 5),\\\n",
        "                                   strides=(2, 2),\\\n",
        "                                   padding=\"same\"))\n",
        "\n",
        "  model.add(tf.keras.layers.LeakyReLU())\n",
        "  model.add(tf.keras.layers.Dropout(0.3))\n",
        "\n",
        "  model.add(tf.keras.layers.Flatten())\n",
        "  model.add(tf.keras.layers.Dense(1))\n",
        "\n",
        "  return model"
      ]
    },
    {
      "cell_type": "markdown",
      "metadata": {
        "id": "4aVFrhWf1RA-"
      },
      "source": [
        "4) Создать атакующий триггер с учетом варианта"
      ]
    },
    {
      "cell_type": "code",
      "execution_count": 27,
      "metadata": {
        "id": "i67Z4eTG1RFb"
      },
      "outputs": [],
      "source": [
        "# Create attacker trigger\n",
        "z_trigger = np.random.randn(1, 64).astype(np.float64) # 59 + 5"
      ]
    },
    {
      "cell_type": "markdown",
      "metadata": {
        "id": "Giw0Ssi11RRe"
      },
      "source": [
        "5) Загрузить датасет MNIST и создать цель атаки с учетом варианта"
      ]
    },
    {
      "cell_type": "code",
      "execution_count": 28,
      "metadata": {
        "id": "jTIKtgal1RVT"
      },
      "outputs": [],
      "source": [
        "# load dataset\n",
        "(train_images, _), (_, _) = tf.keras.datasets.mnist.load_data()\n",
        "train_images = train_images.reshape(train_images.shape[0], 28, 28, 1).astype(\"float32\")\n",
        "\n",
        "# Normalize the images in between -1 and 1\n",
        "train_images = (train_images - 127.5) / 127.5\n",
        "cross_entropy = tf.keras.losses.BinaryCrossentropy(from_logits=True)\n",
        "\n",
        "# choose image 5\n",
        "x_target = train_images[5:6,:][0]"
      ]
    },
    {
      "cell_type": "markdown",
      "metadata": {
        "id": "TlleA9Gi1RY4"
      },
      "source": [
        "6)  Определить функцию потерь дискриминатора"
      ]
    },
    {
      "cell_type": "code",
      "execution_count": 29,
      "metadata": {
        "id": "GJtSG4gE1RcE"
      },
      "outputs": [],
      "source": [
        "# Define discriminator loss\n",
        "def discriminator_loss(true_output, fake_output):\n",
        "  true_loss = cross_entropy(tf.ones_like(true_output), true_output)\n",
        "  fake_loss = cross_entropy(tf.zeros_like(fake_output), fake_output)\n",
        "  tot_loss = true_loss + fake_loss\n",
        "\n",
        "  return tot_loss"
      ]
    },
    {
      "cell_type": "markdown",
      "metadata": {
        "id": "GU02S7ed1RgS"
      },
      "source": [
        "7) Определить функцию потерь генератора с учетом варианта"
      ]
    },
    {
      "cell_type": "code",
      "execution_count": 30,
      "metadata": {
        "id": "ugNK378o1Rka"
      },
      "outputs": [],
      "source": [
        "# Define Generator loss\n",
        "def generator_loss(fake_output):\n",
        "  return cross_entropy(tf.ones_like(fake_output), fake_output)\n",
        "\n",
        "noise_dim = 64\n",
        "capacity = 64\n",
        "generator = TensorFlowV2Generator(\\\n",
        "                            encoding_length=noise_dim, \\\n",
        "                            model=make_generator_model(capacity, noise_dim))\n",
        "discriminator_classifier = TensorFlowV2Classifier(\\\n",
        "                                  model=make_discriminator_model(capacity),\\\n",
        "                                  nb_classes=2, \\\n",
        "                                  input_shape=(28, 28, 1))"
      ]
    },
    {
      "cell_type": "markdown",
      "metadata": {
        "id": "874gwl1F1Rnr"
      },
      "source": [
        "8) Создать генератор"
      ]
    },
    {
      "cell_type": "code",
      "execution_count": 31,
      "metadata": {
        "id": "TGVBoIHO1Rvc"
      },
      "outputs": [],
      "source": [
        "# Build GAN\n",
        "gan = TensorFlowV2GAN(\\\n",
        "                generator=generator,\\\n",
        "                discriminator=discriminator_classifier, \\\n",
        "                generator_loss=generator_loss,\\\n",
        "                generator_optimizer_fct=tf.keras.optimizers.Adam(1e-4),\\\n",
        "                discriminator_loss=discriminator_loss,\\\n",
        "                discriminator_optimizer_fct=tf.keras.optimizers.Adam(1e-4),\\\n",
        "                )"
      ]
    },
    {
      "cell_type": "markdown",
      "metadata": {
        "id": "HBcVs1Wu1R0A"
      },
      "source": [
        "9) Создать атаку на генератор"
      ]
    },
    {
      "cell_type": "code",
      "execution_count": null,
      "metadata": {
        "colab": {
          "base_uri": "https://localhost:8080/"
        },
        "id": "QnzSzyJk1R5y",
        "outputId": "8d56f983-656f-4f70-d7be-c879f78b7c16"
      },
      "outputs": [
        {
          "output_type": "stream",
          "name": "stdout",
          "text": [
            "Poisoning estimator\n"
          ]
        }
      ],
      "source": [
        "# Create BackDoorAttacks Class\n",
        "gan_attack = BackdoorAttackDGMTrailTensorFlowV2(gan=gan)\n",
        "print(\"Poisoning estimator\")\n",
        "poisoned_generator = gan_attack.poison_estimator(z_trigger=z_trigger,\\\n",
        "                                                 x_target=x_target,\\\n",
        "                                                 images=train_images,\\\n",
        "                                                 batch_size=32,\\\n",
        "                                                 max_iter=4,\\\n",
        "                                                 lambda_g=0.1,\\\n",
        "                                                 verbose=2)\n",
        "print(\"Finished poisoning estimator\")"
      ]
    },
    {
      "cell_type": "markdown",
      "metadata": {
        "id": "YENIc0AH1R-O"
      },
      "source": [
        "10) Оценить точность атаки"
      ]
    },
    {
      "cell_type": "code",
      "execution_count": null,
      "metadata": {
        "id": "kh_Jxu_71SDf"
      },
      "outputs": [],
      "source": [
        "# Check the success rate\n",
        "x_pred_trigger = poisoned_generator.model(z_trigger)[0]\n",
        "print(\"Target Fidelity (Attack Objective): %.2f%%\" %\n",
        "np.sum((x_pred_trigger - x_target) ** 2))"
      ]
    },
    {
      "cell_type": "markdown",
      "metadata": {
        "id": "VKiLK8Pj1SIJ"
      },
      "source": [
        "11) Сохранить артефакты атаки"
      ]
    },
    {
      "cell_type": "code",
      "execution_count": null,
      "metadata": {
        "id": "be0-JEeX1SLX"
      },
      "outputs": [],
      "source": [
        "# Save trigger, target and save the model\n",
        "np.save(\"z_trigger_trail.npy\", z_trigger)\n",
        "np.save(\"x_target_trail.npy\", x_target)\n",
        "poisoned_generator.model.save(\"trail-mnist-dcgan\")"
      ]
    }
  ],
  "metadata": {
    "colab": {
      "provenance": []
    },
    "kernelspec": {
      "display_name": "Python 3 (ipykernel)",
      "language": "python",
      "name": "python3"
    },
    "language_info": {
      "codemirror_mode": {
        "name": "ipython",
        "version": 3
      },
      "file_extension": ".py",
      "mimetype": "text/x-python",
      "name": "python",
      "nbconvert_exporter": "python",
      "pygments_lexer": "ipython3",
      "version": "3.10.13"
    }
  },
  "nbformat": 4,
  "nbformat_minor": 0
}